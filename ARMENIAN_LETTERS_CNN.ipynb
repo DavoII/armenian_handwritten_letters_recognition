{
  "nbformat": 4,
  "nbformat_minor": 0,
  "metadata": {
    "colab": {
      "name": "ARMENIAN_LETTERS_CNN.ipynb",
      "provenance": [],
      "collapsed_sections": [],
      "machine_shape": "hm",
      "authorship_tag": "ABX9TyO2IjXtmKyl8lL4+mRkiFRk",
      "include_colab_link": true
    },
    "kernelspec": {
      "name": "python3",
      "display_name": "Python 3"
    },
    "accelerator": "GPU"
  },
  "cells": [
    {
      "cell_type": "markdown",
      "metadata": {
        "id": "view-in-github",
        "colab_type": "text"
      },
      "source": [
        "<a href=\"https://colab.research.google.com/github/DavoII/handwritten_letters_recognition/blob/master/ARMENIAN_LETTERS_CNN.ipynb\" target=\"_parent\"><img src=\"https://colab.research.google.com/assets/colab-badge.svg\" alt=\"Open In Colab\"/></a>"
      ]
    },
    {
      "cell_type": "code",
      "metadata": {
        "id": "M6RB6jII6HFP",
        "colab_type": "code",
        "outputId": "30345798-8a65-4ff4-c415-bec25513ff45",
        "colab": {
          "base_uri": "https://localhost:8080/",
          "height": 34
        }
      },
      "source": [
        "from google.colab import drive\n",
        "drive.mount('/content/drive')"
      ],
      "execution_count": 42,
      "outputs": [
        {
          "output_type": "stream",
          "text": [
            "Drive already mounted at /content/drive; to attempt to forcibly remount, call drive.mount(\"/content/drive\", force_remount=True).\n"
          ],
          "name": "stdout"
        }
      ]
    },
    {
      "cell_type": "code",
      "metadata": {
        "id": "ttKbV1bf6H6f",
        "colab_type": "code",
        "colab": {}
      },
      "source": [
        "import random\n",
        "import numpy as np\n",
        "import pandas as pd\n",
        "import seaborn as sn\n",
        "import matplotlib.pyplot as plt\n",
        "from keras.utils import np_utils\n",
        "from tensorflow.keras import optimizers\n",
        "from sklearn.metrics import confusion_matrix\n",
        "from tensorflow.keras.models import Sequential\n",
        "from sklearn.model_selection import train_test_split\n",
        "from keras.preprocessing.image import ImageDataGenerator\n",
        "from tensorflow.keras.layers import Dense, Dropout, Activation, Flatten, Conv2D, MaxPooling2D"
      ],
      "execution_count": 0,
      "outputs": []
    },
    {
      "cell_type": "code",
      "metadata": {
        "id": "cXwFBJTG6KbL",
        "colab_type": "code",
        "outputId": "41f2ff83-6352-48b6-869a-c4e7cd097196",
        "colab": {
          "base_uri": "https://localhost:8080/",
          "height": 51
        }
      },
      "source": [
        "data = np.load('drive/My Drive/lowercase_agg_first_10/data.npy', encoding='bytes') \n",
        "labels = np.load('drive/My Drive/lowercase_agg_first_10/labels.npy', encoding='bytes') \n",
        "class_idx = np.load('drive/My Drive/lowercase_agg_first_10/label_classes.npy', encoding='bytes')\n",
        "\n",
        "print(data.shape)\n",
        "print(labels.shape)"
      ],
      "execution_count": 44,
      "outputs": [
        {
          "output_type": "stream",
          "text": [
            "(46016, 64, 64)\n",
            "(46016, 10)\n"
          ],
          "name": "stdout"
        }
      ]
    },
    {
      "cell_type": "code",
      "metadata": {
        "id": "Tm8oJh0h6VGB",
        "colab_type": "code",
        "outputId": "a80ae7f0-789e-42b6-9825-9af8a39381f9",
        "colab": {
          "base_uri": "https://localhost:8080/",
          "height": 34
        }
      },
      "source": [
        "number_classes = len(class_idx)\n",
        "print('number of classes', number_classes)"
      ],
      "execution_count": 45,
      "outputs": [
        {
          "output_type": "stream",
          "text": [
            "number of classes 10\n"
          ],
          "name": "stdout"
        }
      ]
    },
    {
      "cell_type": "code",
      "metadata": {
        "id": "WsLWsD5z6X6s",
        "colab_type": "code",
        "colab": {}
      },
      "source": [
        "x_train, x_test, y_train, y_test = train_test_split(\n",
        "    data, labels,\n",
        "    test_size=0.2,\n",
        "    random_state=42,\n",
        "    shuffle=True,\n",
        "    stratify=labels\n",
        "    )\n",
        "\n",
        "x_train = x_train.astype('float32')\n",
        "x_test = x_test.astype('float32')\n",
        "\n",
        "x_train /= 255\n",
        "x_test /= 255"
      ],
      "execution_count": 0,
      "outputs": []
    },
    {
      "cell_type": "code",
      "metadata": {
        "id": "unfcpt-B6Zlx",
        "colab_type": "code",
        "colab": {}
      },
      "source": [
        "(img_shape_w, img_shape_h) = x_train[0].shape\n",
        "x_train = x_train.reshape(x_train.shape[0], img_shape_w, img_shape_h, 1)\n",
        "x_test = x_test.reshape(x_test.shape[0], img_shape_w, img_shape_h, 1)"
      ],
      "execution_count": 0,
      "outputs": []
    },
    {
      "cell_type": "code",
      "metadata": {
        "id": "qWY2N7DO6cAB",
        "colab_type": "code",
        "outputId": "84626aa9-1fca-418c-c276-e8af3337af32",
        "colab": {
          "base_uri": "https://localhost:8080/",
          "height": 85
        }
      },
      "source": [
        "print('x_train', x_train.shape)\n",
        "print('x_test', x_test.shape)\n",
        "print('y_train', y_train.shape)\n",
        "print('y_test', y_test.shape)"
      ],
      "execution_count": 48,
      "outputs": [
        {
          "output_type": "stream",
          "text": [
            "x_train (36812, 64, 64, 1)\n",
            "x_test (9204, 64, 64, 1)\n",
            "y_train (36812, 10)\n",
            "y_test (9204, 10)\n"
          ],
          "name": "stdout"
        }
      ]
    },
    {
      "cell_type": "code",
      "metadata": {
        "id": "IugmZsV96eRC",
        "colab_type": "code",
        "colab": {}
      },
      "source": [
        "ly1_neurons = 128\n",
        "ly2_neurons = 256\n",
        "ly3_neurons = 518\n",
        "\n",
        "kernel_size_1 = (5, 5)\n",
        "kernel_size_2 = (5, 5)\n",
        "kernel_size_3 = (3, 3)\n",
        "\n",
        "dropout_1 = 0.1\n",
        "dropout_2 = 0.2\n",
        "dropout_3 = 0.5\n",
        "\n",
        "pool_size_1 = (2, 2)\n",
        "pool_size_2 = (2, 2)\n",
        "pool_size_3 = (2, 2)\n",
        "\n",
        "categories=number_classes\n",
        "\n",
        "model = Sequential()\n",
        "\n",
        "model.add(Conv2D(ly1_neurons, kernel_size_1, input_shape=x_train.shape[1:]))\n",
        "model.add(Activation(\"relu\"))\n",
        "model.add(MaxPooling2D(pool_size=pool_size_1))\n",
        "model.add(Dropout(dropout_1))\n",
        "\n",
        "model.add(Conv2D(ly2_neurons, kernel_size_2))\n",
        "model.add(Activation(\"relu\"))\n",
        "model.add(MaxPooling2D(pool_size=pool_size_2))\n",
        "model.add(Dropout(dropout_2))\n",
        "\n",
        "model.add(Conv2D(ly3_neurons, kernel_size_3))\n",
        "model.add(Activation(\"relu\"))\n",
        "model.add(MaxPooling2D(pool_size=pool_size_3))\n",
        "model.add(Dropout(dropout_3))\n",
        "\n",
        "model.add(Flatten())\n",
        "model.add(Dense( 512 ))\n",
        "model.add(Activation('relu'))\n",
        "model.add(Dense( categories ))\n",
        "model.add(Activation('softmax'))"
      ],
      "execution_count": 0,
      "outputs": []
    },
    {
      "cell_type": "code",
      "metadata": {
        "id": "DEUw8Ae67E9y",
        "colab_type": "code",
        "colab": {}
      },
      "source": [
        "learning_rate = 0.0001\n",
        "model.compile(optimizer=optimizers.Adam(\n",
        "    learning_rate=learning_rate\n",
        "), loss='categorical_crossentropy', metrics=['accuracy'])"
      ],
      "execution_count": 0,
      "outputs": []
    },
    {
      "cell_type": "code",
      "metadata": {
        "id": "9LKYqPpH7A4q",
        "colab_type": "code",
        "outputId": "f5ce768b-ba89-4012-b822-98c3433a3660",
        "colab": {
          "base_uri": "https://localhost:8080/",
          "height": 731
        }
      },
      "source": [
        "model.summary()"
      ],
      "execution_count": 51,
      "outputs": [
        {
          "output_type": "stream",
          "text": [
            "Model: \"sequential_3\"\n",
            "_________________________________________________________________\n",
            "Layer (type)                 Output Shape              Param #   \n",
            "=================================================================\n",
            "conv2d_9 (Conv2D)            (None, 60, 60, 128)       3328      \n",
            "_________________________________________________________________\n",
            "activation_15 (Activation)   (None, 60, 60, 128)       0         \n",
            "_________________________________________________________________\n",
            "max_pooling2d_9 (MaxPooling2 (None, 30, 30, 128)       0         \n",
            "_________________________________________________________________\n",
            "dropout_9 (Dropout)          (None, 30, 30, 128)       0         \n",
            "_________________________________________________________________\n",
            "conv2d_10 (Conv2D)           (None, 26, 26, 256)       819456    \n",
            "_________________________________________________________________\n",
            "activation_16 (Activation)   (None, 26, 26, 256)       0         \n",
            "_________________________________________________________________\n",
            "max_pooling2d_10 (MaxPooling (None, 13, 13, 256)       0         \n",
            "_________________________________________________________________\n",
            "dropout_10 (Dropout)         (None, 13, 13, 256)       0         \n",
            "_________________________________________________________________\n",
            "conv2d_11 (Conv2D)           (None, 11, 11, 518)       1193990   \n",
            "_________________________________________________________________\n",
            "activation_17 (Activation)   (None, 11, 11, 518)       0         \n",
            "_________________________________________________________________\n",
            "max_pooling2d_11 (MaxPooling (None, 5, 5, 518)         0         \n",
            "_________________________________________________________________\n",
            "dropout_11 (Dropout)         (None, 5, 5, 518)         0         \n",
            "_________________________________________________________________\n",
            "flatten_3 (Flatten)          (None, 12950)             0         \n",
            "_________________________________________________________________\n",
            "dense_6 (Dense)              (None, 512)               6630912   \n",
            "_________________________________________________________________\n",
            "activation_18 (Activation)   (None, 512)               0         \n",
            "_________________________________________________________________\n",
            "dense_7 (Dense)              (None, 10)                5130      \n",
            "_________________________________________________________________\n",
            "activation_19 (Activation)   (None, 10)                0         \n",
            "=================================================================\n",
            "Total params: 8,652,816\n",
            "Trainable params: 8,652,816\n",
            "Non-trainable params: 0\n",
            "_________________________________________________________________\n"
          ],
          "name": "stdout"
        }
      ]
    },
    {
      "cell_type": "code",
      "metadata": {
        "id": "gK7eQWzc6v2-",
        "colab_type": "code",
        "outputId": "e5aa2203-5fab-4f77-af9f-981cd42215d6",
        "colab": {
          "base_uri": "https://localhost:8080/",
          "height": 374
        }
      },
      "source": [
        "model.fit(\n",
        "    x_train,\n",
        "    y_train,\n",
        "    batch_size=120,\n",
        "    epochs=10,\n",
        "    validation_data=(x_test, y_test),\n",
        "    verbose=1\n",
        "    )"
      ],
      "execution_count": 52,
      "outputs": [
        {
          "output_type": "stream",
          "text": [
            "Epoch 1/10\n",
            "307/307 [==============================] - 49s 160ms/step - loss: 0.8607 - accuracy: 0.7907 - val_loss: 0.5761 - val_accuracy: 0.8420\n",
            "Epoch 2/10\n",
            "307/307 [==============================] - 47s 154ms/step - loss: 0.4791 - accuracy: 0.8591 - val_loss: 0.3645 - val_accuracy: 0.8903\n",
            "Epoch 3/10\n",
            "307/307 [==============================] - 47s 154ms/step - loss: 0.3407 - accuracy: 0.8968 - val_loss: 0.3236 - val_accuracy: 0.9015\n",
            "Epoch 4/10\n",
            "307/307 [==============================] - 47s 155ms/step - loss: 0.2555 - accuracy: 0.9205 - val_loss: 0.2533 - val_accuracy: 0.9221\n",
            "Epoch 5/10\n",
            "307/307 [==============================] - 47s 154ms/step - loss: 0.2151 - accuracy: 0.9328 - val_loss: 0.2052 - val_accuracy: 0.9406\n",
            "Epoch 6/10\n",
            "307/307 [==============================] - 47s 154ms/step - loss: 0.1777 - accuracy: 0.9454 - val_loss: 0.1528 - val_accuracy: 0.9553\n",
            "Epoch 7/10\n",
            "307/307 [==============================] - 47s 154ms/step - loss: 0.1452 - accuracy: 0.9562 - val_loss: 0.1925 - val_accuracy: 0.9398\n",
            "Epoch 8/10\n",
            "307/307 [==============================] - 47s 154ms/step - loss: 0.1320 - accuracy: 0.9600 - val_loss: 0.1467 - val_accuracy: 0.9553\n",
            "Epoch 9/10\n",
            "307/307 [==============================] - 47s 154ms/step - loss: 0.1154 - accuracy: 0.9644 - val_loss: 0.1152 - val_accuracy: 0.9663\n",
            "Epoch 10/10\n",
            "307/307 [==============================] - 47s 155ms/step - loss: 0.0953 - accuracy: 0.9717 - val_loss: 0.1034 - val_accuracy: 0.9685\n"
          ],
          "name": "stdout"
        },
        {
          "output_type": "execute_result",
          "data": {
            "text/plain": [
              "<tensorflow.python.keras.callbacks.History at 0x7f3e5f2c6390>"
            ]
          },
          "metadata": {
            "tags": []
          },
          "execution_count": 52
        }
      ]
    },
    {
      "cell_type": "code",
      "metadata": {
        "id": "z-SqSWaFTjxK",
        "colab_type": "code",
        "colab": {
          "base_uri": "https://localhost:8080/",
          "height": 105
        },
        "outputId": "7d2da6f8-90a4-4a66-9525-01baf0791b5b"
      },
      "source": [
        "gen = ImageDataGenerator(rotation_range=12, width_shift_range=0.1, shear_range=0.3,\n",
        "                        height_shift_range=0.1, zoom_range=0.1, data_format='channels_first')\n",
        "\n",
        "batch_size = 512\n",
        "batches = gen.flow(x_train, y_train, batch_size=batch_size)\n",
        "test_batches = gen.flow(x_test, y_test, batch_size=batch_size)\n",
        "steps_per_epoch = int(np.ceil(batches.n/batch_size))\n",
        "validation_steps = int(np.ceil(test_batches.n/batch_size))"
      ],
      "execution_count": 53,
      "outputs": [
        {
          "output_type": "stream",
          "text": [
            "/usr/local/lib/python3.6/dist-packages/keras_preprocessing/image/numpy_array_iterator.py:127: UserWarning: NumpyArrayIterator is set to use the data format convention \"channels_first\" (channels on axis 1), i.e. expected either 1, 3, or 4 channels on axis 1. However, it was passed an array with shape (36812, 64, 64, 1) (64 channels).\n",
            "  str(self.x.shape[channels_axis]) + ' channels).')\n",
            "/usr/local/lib/python3.6/dist-packages/keras_preprocessing/image/numpy_array_iterator.py:127: UserWarning: NumpyArrayIterator is set to use the data format convention \"channels_first\" (channels on axis 1), i.e. expected either 1, 3, or 4 channels on axis 1. However, it was passed an array with shape (9204, 64, 64, 1) (64 channels).\n",
            "  str(self.x.shape[channels_axis]) + ' channels).')\n"
          ],
          "name": "stderr"
        }
      ]
    },
    {
      "cell_type": "code",
      "metadata": {
        "id": "5xFxwEJQTmsK",
        "colab_type": "code",
        "colab": {
          "base_uri": "https://localhost:8080/",
          "height": 544
        },
        "outputId": "f6759a4d-f9db-4085-fd2f-6ab9ba1a484c"
      },
      "source": [
        "model.fit(\n",
        "    batches,\n",
        "    epochs=15,\n",
        "    validation_data=test_batches,\n",
        "    steps_per_epoch=steps_per_epoch,\n",
        "    validation_steps=validation_steps\n",
        "    )"
      ],
      "execution_count": 54,
      "outputs": [
        {
          "output_type": "stream",
          "text": [
            "Epoch 1/15\n",
            "72/72 [==============================] - 113s 2s/step - loss: 0.1933 - accuracy: 0.9398 - val_loss: 0.1535 - val_accuracy: 0.9539\n",
            "Epoch 2/15\n",
            "72/72 [==============================] - 109s 2s/step - loss: 0.1495 - accuracy: 0.9532 - val_loss: 0.1359 - val_accuracy: 0.9584\n",
            "Epoch 3/15\n",
            "72/72 [==============================] - 109s 2s/step - loss: 0.1417 - accuracy: 0.9559 - val_loss: 0.1825 - val_accuracy: 0.9433\n",
            "Epoch 4/15\n",
            "72/72 [==============================] - 108s 2s/step - loss: 0.1336 - accuracy: 0.9577 - val_loss: 0.1334 - val_accuracy: 0.9612\n",
            "Epoch 5/15\n",
            "72/72 [==============================] - 108s 2s/step - loss: 0.1351 - accuracy: 0.9577 - val_loss: 0.1345 - val_accuracy: 0.9588\n",
            "Epoch 6/15\n",
            "72/72 [==============================] - 109s 2s/step - loss: 0.1269 - accuracy: 0.9586 - val_loss: 0.1379 - val_accuracy: 0.9570\n",
            "Epoch 7/15\n",
            "72/72 [==============================] - 110s 2s/step - loss: 0.1252 - accuracy: 0.9602 - val_loss: 0.1326 - val_accuracy: 0.9574\n",
            "Epoch 8/15\n",
            "72/72 [==============================] - 110s 2s/step - loss: 0.1208 - accuracy: 0.9624 - val_loss: 0.1099 - val_accuracy: 0.9649\n",
            "Epoch 9/15\n",
            "72/72 [==============================] - 112s 2s/step - loss: 0.1180 - accuracy: 0.9621 - val_loss: 0.1374 - val_accuracy: 0.9558\n",
            "Epoch 10/15\n",
            "72/72 [==============================] - 111s 2s/step - loss: 0.1140 - accuracy: 0.9630 - val_loss: 0.1575 - val_accuracy: 0.9495\n",
            "Epoch 11/15\n",
            "72/72 [==============================] - 111s 2s/step - loss: 0.1121 - accuracy: 0.9645 - val_loss: 0.1254 - val_accuracy: 0.9632\n",
            "Epoch 12/15\n",
            "72/72 [==============================] - 112s 2s/step - loss: 0.1071 - accuracy: 0.9653 - val_loss: 0.1081 - val_accuracy: 0.9677\n",
            "Epoch 13/15\n",
            "72/72 [==============================] - 110s 2s/step - loss: 0.1129 - accuracy: 0.9634 - val_loss: 0.1053 - val_accuracy: 0.9679\n",
            "Epoch 14/15\n",
            "72/72 [==============================] - 110s 2s/step - loss: 0.1031 - accuracy: 0.9680 - val_loss: 0.1147 - val_accuracy: 0.9635\n",
            "Epoch 15/15\n",
            "72/72 [==============================] - 111s 2s/step - loss: 0.1025 - accuracy: 0.9685 - val_loss: 0.1093 - val_accuracy: 0.9657\n"
          ],
          "name": "stdout"
        },
        {
          "output_type": "execute_result",
          "data": {
            "text/plain": [
              "<tensorflow.python.keras.callbacks.History at 0x7f3e5f094f28>"
            ]
          },
          "metadata": {
            "tags": []
          },
          "execution_count": 54
        }
      ]
    }
  ]
}
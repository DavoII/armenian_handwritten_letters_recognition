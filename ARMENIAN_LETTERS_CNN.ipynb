{
  "nbformat": 4,
  "nbformat_minor": 0,
  "metadata": {
    "colab": {
      "name": "ARMENIAN_LETTERS_CNN.ipynb",
      "provenance": [],
      "collapsed_sections": [],
      "authorship_tag": "ABX9TyN84MWDdydDkuZ398NQWLcN",
      "include_colab_link": true
    },
    "kernelspec": {
      "name": "python3",
      "display_name": "Python 3"
    },
    "accelerator": "GPU"
  },
  "cells": [
    {
      "cell_type": "markdown",
      "metadata": {
        "id": "view-in-github",
        "colab_type": "text"
      },
      "source": [
        "<a href=\"https://colab.research.google.com/github/DavoII/handwritten_letters_recognition/blob/master/ARMENIAN_LETTERS_CNN.ipynb\" target=\"_parent\"><img src=\"https://colab.research.google.com/assets/colab-badge.svg\" alt=\"Open In Colab\"/></a>"
      ]
    },
    {
      "cell_type": "code",
      "metadata": {
        "id": "hCxBeCWt229P",
        "colab_type": "code",
        "colab": {
          "base_uri": "https://localhost:8080/",
          "height": 122
        },
        "outputId": "42883f82-60b3-424a-ba3a-a5e2cc7efd71"
      },
      "source": [
        "from google.colab import drive\n",
        "drive.mount('/content/drive')"
      ],
      "execution_count": 1,
      "outputs": [
        {
          "output_type": "stream",
          "text": [
            "Go to this URL in a browser: https://accounts.google.com/o/oauth2/auth?client_id=947318989803-6bn6qk8qdgf4n4g3pfee6491hc0brc4i.apps.googleusercontent.com&redirect_uri=urn%3aietf%3awg%3aoauth%3a2.0%3aoob&response_type=code&scope=email%20https%3a%2f%2fwww.googleapis.com%2fauth%2fdocs.test%20https%3a%2f%2fwww.googleapis.com%2fauth%2fdrive%20https%3a%2f%2fwww.googleapis.com%2fauth%2fdrive.photos.readonly%20https%3a%2f%2fwww.googleapis.com%2fauth%2fpeopleapi.readonly\n",
            "\n",
            "Enter your authorization code:\n",
            "··········\n",
            "Mounted at /content/drive\n"
          ],
          "name": "stdout"
        }
      ]
    },
    {
      "cell_type": "code",
      "metadata": {
        "id": "RB1t70FS23qH",
        "colab_type": "code",
        "colab": {
          "base_uri": "https://localhost:8080/",
          "height": 88
        },
        "outputId": "929c13e0-c683-4f6b-db88-04247c4bfb1a"
      },
      "source": [
        "import random\n",
        "import numpy as np\n",
        "import pandas as pd\n",
        "import seaborn as sn\n",
        "import matplotlib.pyplot as plt\n",
        "from keras.utils import np_utils\n",
        "from tensorflow.keras import optimizers\n",
        "from sklearn.metrics import confusion_matrix\n",
        "from tensorflow.keras.models import Sequential\n",
        "from sklearn.model_selection import train_test_split\n",
        "from keras.preprocessing.image import ImageDataGenerator\n",
        "from tensorflow.keras.layers import Dense, Dropout, Activation, Flatten, Conv2D, MaxPooling2D"
      ],
      "execution_count": 2,
      "outputs": [
        {
          "output_type": "stream",
          "text": [
            "/usr/local/lib/python3.6/dist-packages/statsmodels/tools/_testing.py:19: FutureWarning: pandas.util.testing is deprecated. Use the functions in the public API at pandas.testing instead.\n",
            "  import pandas.util.testing as tm\n",
            "Using TensorFlow backend.\n"
          ],
          "name": "stderr"
        }
      ]
    },
    {
      "cell_type": "code",
      "metadata": {
        "id": "97g3IjB225BJ",
        "colab_type": "code",
        "colab": {
          "base_uri": "https://localhost:8080/",
          "height": 51
        },
        "outputId": "ca080a49-d7e3-4fe6-e692-01508a2cbc67"
      },
      "source": [
        "data = np.load('drive/My Drive/lowercase_agg_first_10/data.npy', encoding='bytes') \n",
        "labels = np.load('drive/My Drive/lowercase_agg_first_10/labels.npy', encoding='bytes') \n",
        "class_idx = np.load('drive/My Drive/lowercase_agg_first_10/label_classes.npy', encoding='bytes')\n",
        "\n",
        "print(data.shape)\n",
        "print(labels.shape)"
      ],
      "execution_count": 3,
      "outputs": [
        {
          "output_type": "stream",
          "text": [
            "(46016, 64, 64)\n",
            "(46016, 10)\n"
          ],
          "name": "stdout"
        }
      ]
    },
    {
      "cell_type": "code",
      "metadata": {
        "id": "r_BRda9f25LM",
        "colab_type": "code",
        "colab": {
          "base_uri": "https://localhost:8080/",
          "height": 34
        },
        "outputId": "cd841ed9-49cf-4fda-d519-30bad0a62021"
      },
      "source": [
        "number_classes = len(class_idx)\n",
        "print('number of classes', number_classes)"
      ],
      "execution_count": 4,
      "outputs": [
        {
          "output_type": "stream",
          "text": [
            "number of classes 10\n"
          ],
          "name": "stdout"
        }
      ]
    },
    {
      "cell_type": "code",
      "metadata": {
        "id": "cXomWTkZ25Nc",
        "colab_type": "code",
        "colab": {}
      },
      "source": [
        "x_train, x_test, y_train, y_test = train_test_split(\n",
        "    data, labels,\n",
        "    test_size=0.2,\n",
        "    random_state=42,\n",
        "    shuffle=True,\n",
        "    stratify=labels\n",
        "    )\n",
        "\n",
        "x_train = x_train.astype('float32')\n",
        "x_test = x_test.astype('float32')\n",
        "\n",
        "x_train /= 255\n",
        "x_test /= 255"
      ],
      "execution_count": 0,
      "outputs": []
    },
    {
      "cell_type": "code",
      "metadata": {
        "id": "Cw-hRYWf25QF",
        "colab_type": "code",
        "colab": {}
      },
      "source": [
        "(img_shape_w, img_shape_h) = x_train[0].shape\n",
        "x_train = x_train.reshape(x_train.shape[0], img_shape_w, img_shape_h, 1)\n",
        "x_test = x_test.reshape(x_test.shape[0], img_shape_w, img_shape_h, 1)"
      ],
      "execution_count": 0,
      "outputs": []
    },
    {
      "cell_type": "code",
      "metadata": {
        "id": "sDLpOdzq2_QC",
        "colab_type": "code",
        "colab": {
          "base_uri": "https://localhost:8080/",
          "height": 85
        },
        "outputId": "01cfa8c2-72e6-4c7f-fb05-7a95d245e167"
      },
      "source": [
        "print('x_train', x_train.shape)\n",
        "print('x_test', x_test.shape)\n",
        "print('y_train', y_train.shape)\n",
        "print('y_test', y_test.shape)"
      ],
      "execution_count": 7,
      "outputs": [
        {
          "output_type": "stream",
          "text": [
            "x_train (36812, 64, 64, 1)\n",
            "x_test (9204, 64, 64, 1)\n",
            "y_train (36812, 10)\n",
            "y_test (9204, 10)\n"
          ],
          "name": "stdout"
        }
      ]
    },
    {
      "cell_type": "code",
      "metadata": {
        "id": "pImOQ79w3BBj",
        "colab_type": "code",
        "colab": {}
      },
      "source": [
        "ly1_neurons = 416\n",
        "ly2_neurons = 272\n",
        "ly3_neurons = 240\n",
        "\n",
        "kernel_size_1 = (3, 3)\n",
        "kernel_size_2 = (5, 5)\n",
        "kernel_size_3 = (5, 5)\n",
        "\n",
        "dropout_1 = 0.2\n",
        "dropout_2 = 0.1\n",
        "dropout_3 = 0.0\n",
        "\n",
        "pool_size_1 = (2, 2)\n",
        "pool_size_2 = (2, 2)\n",
        "pool_size_3 = (2, 2)\n",
        "\n",
        "categories=number_classes\n",
        "\n",
        "model = Sequential()\n",
        "\n",
        "model.add(Conv2D(ly1_neurons, kernel_size_1, input_shape=x_train.shape[1:]))\n",
        "model.add(Activation(\"relu\"))\n",
        "model.add(MaxPooling2D(pool_size=pool_size_1))\n",
        "model.add(Dropout(dropout_1))\n",
        "\n",
        "model.add(Conv2D(ly2_neurons, kernel_size_2))\n",
        "model.add(Activation(\"relu\"))\n",
        "model.add(MaxPooling2D(pool_size=pool_size_2))\n",
        "model.add(Dropout(dropout_2))\n",
        "\n",
        "model.add(Conv2D(ly3_neurons, kernel_size_3))\n",
        "model.add(Activation(\"relu\"))\n",
        "model.add(MaxPooling2D(pool_size=pool_size_3))\n",
        "model.add(Dropout(dropout_3))\n",
        "\n",
        "model.add(Flatten())\n",
        "model.add(Dense( 512 ))\n",
        "model.add(Activation('relu'))\n",
        "model.add(Dense( categories ))\n",
        "model.add(Activation('softmax'))"
      ],
      "execution_count": 0,
      "outputs": []
    },
    {
      "cell_type": "code",
      "metadata": {
        "id": "oJVUgC4T3CY7",
        "colab_type": "code",
        "colab": {}
      },
      "source": [
        "learning_rate = 0.0001\n",
        "model.compile(optimizer=optimizers.Adam(\n",
        "    learning_rate=learning_rate\n",
        "), loss='categorical_crossentropy', metrics=['accuracy'])"
      ],
      "execution_count": 0,
      "outputs": []
    },
    {
      "cell_type": "code",
      "metadata": {
        "id": "wXR-u72Z3EDu",
        "colab_type": "code",
        "colab": {
          "base_uri": "https://localhost:8080/",
          "height": 731
        },
        "outputId": "f9023782-99b0-4d54-8cfe-f53fb11ff42b"
      },
      "source": [
        "model.summary()"
      ],
      "execution_count": 10,
      "outputs": [
        {
          "output_type": "stream",
          "text": [
            "Model: \"sequential\"\n",
            "_________________________________________________________________\n",
            "Layer (type)                 Output Shape              Param #   \n",
            "=================================================================\n",
            "conv2d (Conv2D)              (None, 62, 62, 416)       4160      \n",
            "_________________________________________________________________\n",
            "activation (Activation)      (None, 62, 62, 416)       0         \n",
            "_________________________________________________________________\n",
            "max_pooling2d (MaxPooling2D) (None, 31, 31, 416)       0         \n",
            "_________________________________________________________________\n",
            "dropout (Dropout)            (None, 31, 31, 416)       0         \n",
            "_________________________________________________________________\n",
            "conv2d_1 (Conv2D)            (None, 27, 27, 272)       2829072   \n",
            "_________________________________________________________________\n",
            "activation_1 (Activation)    (None, 27, 27, 272)       0         \n",
            "_________________________________________________________________\n",
            "max_pooling2d_1 (MaxPooling2 (None, 13, 13, 272)       0         \n",
            "_________________________________________________________________\n",
            "dropout_1 (Dropout)          (None, 13, 13, 272)       0         \n",
            "_________________________________________________________________\n",
            "conv2d_2 (Conv2D)            (None, 9, 9, 240)         1632240   \n",
            "_________________________________________________________________\n",
            "activation_2 (Activation)    (None, 9, 9, 240)         0         \n",
            "_________________________________________________________________\n",
            "max_pooling2d_2 (MaxPooling2 (None, 4, 4, 240)         0         \n",
            "_________________________________________________________________\n",
            "dropout_2 (Dropout)          (None, 4, 4, 240)         0         \n",
            "_________________________________________________________________\n",
            "flatten (Flatten)            (None, 3840)              0         \n",
            "_________________________________________________________________\n",
            "dense (Dense)                (None, 512)               1966592   \n",
            "_________________________________________________________________\n",
            "activation_3 (Activation)    (None, 512)               0         \n",
            "_________________________________________________________________\n",
            "dense_1 (Dense)              (None, 10)                5130      \n",
            "_________________________________________________________________\n",
            "activation_4 (Activation)    (None, 10)                0         \n",
            "=================================================================\n",
            "Total params: 6,437,194\n",
            "Trainable params: 6,437,194\n",
            "Non-trainable params: 0\n",
            "_________________________________________________________________\n"
          ],
          "name": "stdout"
        }
      ]
    },
    {
      "cell_type": "code",
      "metadata": {
        "id": "4B3cKq2V3FYJ",
        "colab_type": "code",
        "colab": {
          "base_uri": "https://localhost:8080/",
          "height": 105
        },
        "outputId": "a691a4ab-a681-461c-d7a4-26ed6d41a927"
      },
      "source": [
        "gen = ImageDataGenerator(rotation_range=12, width_shift_range=0.1, shear_range=0.3,\n",
        "                        height_shift_range=0.1, zoom_range=0.1, data_format='channels_first')\n",
        "\n",
        "batch_size = 512\n",
        "batches = gen.flow(x_train, y_train, batch_size=batch_size)\n",
        "test_batches = gen.flow(x_test, y_test, batch_size=batch_size)\n",
        "steps_per_epoch = int(np.ceil(batches.n/batch_size))\n",
        "validation_steps = int(np.ceil(test_batches.n/batch_size))"
      ],
      "execution_count": 11,
      "outputs": [
        {
          "output_type": "stream",
          "text": [
            "/usr/local/lib/python3.6/dist-packages/keras_preprocessing/image/numpy_array_iterator.py:127: UserWarning: NumpyArrayIterator is set to use the data format convention \"channels_first\" (channels on axis 1), i.e. expected either 1, 3, or 4 channels on axis 1. However, it was passed an array with shape (36812, 64, 64, 1) (64 channels).\n",
            "  str(self.x.shape[channels_axis]) + ' channels).')\n",
            "/usr/local/lib/python3.6/dist-packages/keras_preprocessing/image/numpy_array_iterator.py:127: UserWarning: NumpyArrayIterator is set to use the data format convention \"channels_first\" (channels on axis 1), i.e. expected either 1, 3, or 4 channels on axis 1. However, it was passed an array with shape (9204, 64, 64, 1) (64 channels).\n",
            "  str(self.x.shape[channels_axis]) + ' channels).')\n"
          ],
          "name": "stderr"
        }
      ]
    },
    {
      "cell_type": "code",
      "metadata": {
        "id": "wtA1qMsd3HRo",
        "colab_type": "code",
        "colab": {
          "base_uri": "https://localhost:8080/",
          "height": 51
        },
        "outputId": "a5ca4a3b-d5e1-4a25-f5ed-21c8165996cd"
      },
      "source": [
        "model.fit(\n",
        "    batches,\n",
        "    epochs=15,\n",
        "    validation_data=test_batches,\n",
        "    steps_per_epoch=steps_per_epoch,\n",
        "    validation_steps=validation_steps\n",
        "    )"
      ],
      "execution_count": 0,
      "outputs": [
        {
          "output_type": "stream",
          "text": [
            "Epoch 1/15\n",
            "72/72 [==============================] - ETA: 0s - loss: 1.1938 - accuracy: 0.7673"
          ],
          "name": "stdout"
        }
      ]
    }
  ]
}
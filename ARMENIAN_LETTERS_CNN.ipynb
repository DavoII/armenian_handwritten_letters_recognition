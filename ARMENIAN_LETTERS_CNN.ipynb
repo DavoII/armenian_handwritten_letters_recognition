{
  "nbformat": 4,
  "nbformat_minor": 0,
  "metadata": {
    "colab": {
      "name": "ARMENIAN_LETTERS_CNN.ipynb",
      "provenance": [],
      "collapsed_sections": [],
      "machine_shape": "hm",
      "authorship_tag": "ABX9TyPmjTcZJWGF0keVel7E15H3",
      "include_colab_link": true
    },
    "kernelspec": {
      "name": "python3",
      "display_name": "Python 3"
    },
    "accelerator": "GPU"
  },
  "cells": [
    {
      "cell_type": "markdown",
      "metadata": {
        "id": "view-in-github",
        "colab_type": "text"
      },
      "source": [
        "<a href=\"https://colab.research.google.com/github/DavoII/handwritten_letters_recognition/blob/master/ARMENIAN_LETTERS_CNN.ipynb\" target=\"_parent\"><img src=\"https://colab.research.google.com/assets/colab-badge.svg\" alt=\"Open In Colab\"/></a>"
      ]
    },
    {
      "cell_type": "code",
      "metadata": {
        "id": "M6RB6jII6HFP",
        "colab_type": "code",
        "outputId": "13454a28-080a-4e83-c80e-d1f9c8a49b19",
        "colab": {
          "base_uri": "https://localhost:8080/",
          "height": 122
        }
      },
      "source": [
        "from google.colab import drive\n",
        "drive.mount('/content/drive')"
      ],
      "execution_count": 1,
      "outputs": [
        {
          "output_type": "stream",
          "text": [
            "Go to this URL in a browser: https://accounts.google.com/o/oauth2/auth?client_id=947318989803-6bn6qk8qdgf4n4g3pfee6491hc0brc4i.apps.googleusercontent.com&redirect_uri=urn%3aietf%3awg%3aoauth%3a2.0%3aoob&response_type=code&scope=email%20https%3a%2f%2fwww.googleapis.com%2fauth%2fdocs.test%20https%3a%2f%2fwww.googleapis.com%2fauth%2fdrive%20https%3a%2f%2fwww.googleapis.com%2fauth%2fdrive.photos.readonly%20https%3a%2f%2fwww.googleapis.com%2fauth%2fpeopleapi.readonly\n",
            "\n",
            "Enter your authorization code:\n",
            "··········\n",
            "Mounted at /content/drive\n"
          ],
          "name": "stdout"
        }
      ]
    },
    {
      "cell_type": "code",
      "metadata": {
        "id": "ttKbV1bf6H6f",
        "colab_type": "code",
        "outputId": "adb00c1d-d1e8-44db-b06b-4db813ea6f4b",
        "colab": {
          "base_uri": "https://localhost:8080/",
          "height": 88
        }
      },
      "source": [
        "import random\n",
        "import numpy as np\n",
        "import pandas as pd\n",
        "import seaborn as sn\n",
        "import matplotlib.pyplot as plt\n",
        "from keras.utils import np_utils\n",
        "from tensorflow.keras import optimizers\n",
        "from sklearn.metrics import confusion_matrix\n",
        "from tensorflow.keras.models import Sequential\n",
        "from sklearn.model_selection import train_test_split\n",
        "from keras.preprocessing.image import ImageDataGenerator\n",
        "from tensorflow.keras.layers import Dense, Dropout, Activation, Flatten, Conv2D, MaxPooling2D"
      ],
      "execution_count": 2,
      "outputs": [
        {
          "output_type": "stream",
          "text": [
            "/usr/local/lib/python3.6/dist-packages/statsmodels/tools/_testing.py:19: FutureWarning: pandas.util.testing is deprecated. Use the functions in the public API at pandas.testing instead.\n",
            "  import pandas.util.testing as tm\n",
            "Using TensorFlow backend.\n"
          ],
          "name": "stderr"
        }
      ]
    },
    {
      "cell_type": "code",
      "metadata": {
        "id": "cXwFBJTG6KbL",
        "colab_type": "code",
        "outputId": "9e33f099-b7da-4965-f5a1-225768f95133",
        "colab": {
          "base_uri": "https://localhost:8080/",
          "height": 51
        }
      },
      "source": [
        "data = np.load('drive/My Drive/lowercase_agg_first_10/data.npy', encoding='bytes') \n",
        "labels = np.load('drive/My Drive/lowercase_agg_first_10/labels.npy', encoding='bytes') \n",
        "class_idx = np.load('drive/My Drive/lowercase_agg_first_10/label_classes.npy', encoding='bytes')\n",
        "\n",
        "print(data.shape)\n",
        "print(labels.shape)"
      ],
      "execution_count": 3,
      "outputs": [
        {
          "output_type": "stream",
          "text": [
            "(34512, 64, 64)\n",
            "(34512, 10)\n"
          ],
          "name": "stdout"
        }
      ]
    },
    {
      "cell_type": "code",
      "metadata": {
        "id": "Tm8oJh0h6VGB",
        "colab_type": "code",
        "outputId": "a222164a-dfec-4c62-8083-65d92d02b5dc",
        "colab": {
          "base_uri": "https://localhost:8080/",
          "height": 34
        }
      },
      "source": [
        "number_classes = len(class_idx)\n",
        "print('number of classes', number_classes)"
      ],
      "execution_count": 4,
      "outputs": [
        {
          "output_type": "stream",
          "text": [
            "number of classes 10\n"
          ],
          "name": "stdout"
        }
      ]
    },
    {
      "cell_type": "code",
      "metadata": {
        "id": "WsLWsD5z6X6s",
        "colab_type": "code",
        "colab": {}
      },
      "source": [
        "x_train, x_test, y_train, y_test = train_test_split(\n",
        "    data, labels,\n",
        "    test_size=0.2,\n",
        "    random_state=42,\n",
        "    shuffle=True,\n",
        "    stratify=labels\n",
        "    )\n",
        "\n",
        "x_train = x_train.astype('float32')\n",
        "x_test = x_test.astype('float32')\n",
        "\n",
        "x_train /= 255\n",
        "x_test /= 255"
      ],
      "execution_count": 0,
      "outputs": []
    },
    {
      "cell_type": "code",
      "metadata": {
        "id": "unfcpt-B6Zlx",
        "colab_type": "code",
        "colab": {}
      },
      "source": [
        "(img_shape_w, img_shape_h) = x_train[0].shape\n",
        "x_train = x_train.reshape(x_train.shape[0], img_shape_w, img_shape_h, 1)\n",
        "x_test = x_test.reshape(x_test.shape[0], img_shape_w, img_shape_h, 1)"
      ],
      "execution_count": 0,
      "outputs": []
    },
    {
      "cell_type": "code",
      "metadata": {
        "id": "qWY2N7DO6cAB",
        "colab_type": "code",
        "outputId": "b05320c4-11e9-42a2-f57a-ae0af3066535",
        "colab": {
          "base_uri": "https://localhost:8080/",
          "height": 85
        }
      },
      "source": [
        "print('x_train', x_train.shape)\n",
        "print('x_test', x_test.shape)\n",
        "print('y_train', y_train.shape)\n",
        "print('y_test', y_test.shape)"
      ],
      "execution_count": 7,
      "outputs": [
        {
          "output_type": "stream",
          "text": [
            "x_train (24158, 64, 64, 1)\n",
            "x_test (10354, 64, 64, 1)\n",
            "y_train (24158, 10)\n",
            "y_test (10354, 10)\n"
          ],
          "name": "stdout"
        }
      ]
    },
    {
      "cell_type": "code",
      "metadata": {
        "id": "IugmZsV96eRC",
        "colab_type": "code",
        "colab": {}
      },
      "source": [
        "ly1_neurons = 128\n",
        "ly2_neurons = 256\n",
        "ly3_neurons = 518\n",
        "\n",
        "kernel_size_1 = (5, 5)\n",
        "kernel_size_2 = (5, 5)\n",
        "kernel_size_3 = (3, 3)\n",
        "\n",
        "dropout_1 = 0.1\n",
        "dropout_2 = 0.2\n",
        "dropout_3 = 0.5\n",
        "\n",
        "pool_size_1 = (2, 2)\n",
        "pool_size_2 = (2, 2)\n",
        "pool_size_3 = (2, 2)\n",
        "\n",
        "categories=number_classes\n",
        "\n",
        "model = Sequential()\n",
        "\n",
        "model.add(Conv2D(ly1_neurons, kernel_size_1, input_shape=x_train.shape[1:]))\n",
        "model.add(Activation(\"relu\"))\n",
        "model.add(MaxPooling2D(pool_size=pool_size_1))\n",
        "model.add(Dropout(dropout_1))\n",
        "\n",
        "model.add(Conv2D(ly2_neurons, kernel_size_2))\n",
        "model.add(Activation(\"relu\"))\n",
        "model.add(MaxPooling2D(pool_size=pool_size_2))\n",
        "model.add(Dropout(dropout_2))\n",
        "\n",
        "model.add(Conv2D(ly3_neurons, kernel_size_3))\n",
        "model.add(Activation(\"relu\"))\n",
        "model.add(MaxPooling2D(pool_size=pool_size_3))\n",
        "model.add(Dropout(dropout_3))\n",
        "\n",
        "model.add(Flatten())\n",
        "model.add(Dense( 512 ))\n",
        "model.add(Activation('relu'))\n",
        "model.add(Dense( categories ))\n",
        "model.add(Activation('softmax'))"
      ],
      "execution_count": 0,
      "outputs": []
    },
    {
      "cell_type": "code",
      "metadata": {
        "id": "DEUw8Ae67E9y",
        "colab_type": "code",
        "colab": {}
      },
      "source": [
        "learning_rate = 0.0001\n",
        "model.compile(optimizer=optimizers.Adam(\n",
        "    learning_rate=learning_rate\n",
        "), loss='categorical_crossentropy', metrics=['accuracy'])"
      ],
      "execution_count": 0,
      "outputs": []
    },
    {
      "cell_type": "code",
      "metadata": {
        "id": "9LKYqPpH7A4q",
        "colab_type": "code",
        "outputId": "a9396e08-c224-41c6-9a7a-27c7dc182fb2",
        "colab": {
          "base_uri": "https://localhost:8080/",
          "height": 731
        }
      },
      "source": [
        "model.summary()"
      ],
      "execution_count": 10,
      "outputs": [
        {
          "output_type": "stream",
          "text": [
            "Model: \"sequential\"\n",
            "_________________________________________________________________\n",
            "Layer (type)                 Output Shape              Param #   \n",
            "=================================================================\n",
            "conv2d (Conv2D)              (None, 60, 60, 128)       3328      \n",
            "_________________________________________________________________\n",
            "activation (Activation)      (None, 60, 60, 128)       0         \n",
            "_________________________________________________________________\n",
            "max_pooling2d (MaxPooling2D) (None, 30, 30, 128)       0         \n",
            "_________________________________________________________________\n",
            "dropout (Dropout)            (None, 30, 30, 128)       0         \n",
            "_________________________________________________________________\n",
            "conv2d_1 (Conv2D)            (None, 26, 26, 256)       819456    \n",
            "_________________________________________________________________\n",
            "activation_1 (Activation)    (None, 26, 26, 256)       0         \n",
            "_________________________________________________________________\n",
            "max_pooling2d_1 (MaxPooling2 (None, 13, 13, 256)       0         \n",
            "_________________________________________________________________\n",
            "dropout_1 (Dropout)          (None, 13, 13, 256)       0         \n",
            "_________________________________________________________________\n",
            "conv2d_2 (Conv2D)            (None, 11, 11, 518)       1193990   \n",
            "_________________________________________________________________\n",
            "activation_2 (Activation)    (None, 11, 11, 518)       0         \n",
            "_________________________________________________________________\n",
            "max_pooling2d_2 (MaxPooling2 (None, 5, 5, 518)         0         \n",
            "_________________________________________________________________\n",
            "dropout_2 (Dropout)          (None, 5, 5, 518)         0         \n",
            "_________________________________________________________________\n",
            "flatten (Flatten)            (None, 12950)             0         \n",
            "_________________________________________________________________\n",
            "dense (Dense)                (None, 512)               6630912   \n",
            "_________________________________________________________________\n",
            "activation_3 (Activation)    (None, 512)               0         \n",
            "_________________________________________________________________\n",
            "dense_1 (Dense)              (None, 10)                5130      \n",
            "_________________________________________________________________\n",
            "activation_4 (Activation)    (None, 10)                0         \n",
            "=================================================================\n",
            "Total params: 8,652,816\n",
            "Trainable params: 8,652,816\n",
            "Non-trainable params: 0\n",
            "_________________________________________________________________\n"
          ],
          "name": "stdout"
        }
      ]
    },
    {
      "cell_type": "code",
      "metadata": {
        "id": "gK7eQWzc6v2-",
        "colab_type": "code",
        "outputId": "f720c427-887f-40f5-c2f0-f0f98b1c4681",
        "colab": {
          "base_uri": "https://localhost:8080/",
          "height": 374
        }
      },
      "source": [
        "model.fit(\n",
        "    x_train,\n",
        "    y_train,\n",
        "    batch_size=120,\n",
        "    epochs=10,\n",
        "    validation_data=(x_test, y_test),\n",
        "    verbose=1\n",
        "    )"
      ],
      "execution_count": 11,
      "outputs": [
        {
          "output_type": "stream",
          "text": [
            "Epoch 1/10\n",
            "202/202 [==============================] - 33s 165ms/step - loss: 1.1821 - accuracy: 0.7008 - val_loss: 0.8785 - val_accuracy: 0.7489\n",
            "Epoch 2/10\n",
            "202/202 [==============================] - 33s 161ms/step - loss: 0.7118 - accuracy: 0.7831 - val_loss: 0.6631 - val_accuracy: 0.7966\n",
            "Epoch 3/10\n",
            "202/202 [==============================] - 33s 162ms/step - loss: 0.5119 - accuracy: 0.8408 - val_loss: 0.6981 - val_accuracy: 0.7644\n",
            "Epoch 4/10\n",
            "202/202 [==============================] - 33s 162ms/step - loss: 0.4186 - accuracy: 0.8689 - val_loss: 0.4596 - val_accuracy: 0.8524\n",
            "Epoch 5/10\n",
            "202/202 [==============================] - 33s 162ms/step - loss: 0.3622 - accuracy: 0.8861 - val_loss: 0.3403 - val_accuracy: 0.8918\n",
            "Epoch 6/10\n",
            "202/202 [==============================] - 33s 162ms/step - loss: 0.3076 - accuracy: 0.9024 - val_loss: 0.2690 - val_accuracy: 0.9171\n",
            "Epoch 7/10\n",
            "202/202 [==============================] - 33s 162ms/step - loss: 0.2609 - accuracy: 0.9161 - val_loss: 0.2316 - val_accuracy: 0.9289\n",
            "Epoch 8/10\n",
            "202/202 [==============================] - 33s 161ms/step - loss: 0.2413 - accuracy: 0.9222 - val_loss: 0.2054 - val_accuracy: 0.9379\n",
            "Epoch 9/10\n",
            "202/202 [==============================] - 33s 162ms/step - loss: 0.2015 - accuracy: 0.9358 - val_loss: 0.2174 - val_accuracy: 0.9327\n",
            "Epoch 10/10\n",
            "202/202 [==============================] - 33s 162ms/step - loss: 0.1932 - accuracy: 0.9381 - val_loss: 0.3191 - val_accuracy: 0.8859\n"
          ],
          "name": "stdout"
        },
        {
          "output_type": "execute_result",
          "data": {
            "text/plain": [
              "<tensorflow.python.keras.callbacks.History at 0x7f3ec04b5da0>"
            ]
          },
          "metadata": {
            "tags": []
          },
          "execution_count": 11
        }
      ]
    }
  ]
}
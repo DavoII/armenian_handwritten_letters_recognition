{
  "nbformat": 4,
  "nbformat_minor": 0,
  "metadata": {
    "colab": {
      "name": "Armenian_Letters(CNN).ipynb",
      "provenance": [],
      "collapsed_sections": [],
      "machine_shape": "hm",
      "include_colab_link": true
    },
    "kernelspec": {
      "name": "python3",
      "display_name": "Python 3"
    },
    "accelerator": "GPU"
  },
  "cells": [
    {
      "cell_type": "markdown",
      "metadata": {
        "id": "view-in-github",
        "colab_type": "text"
      },
      "source": [
        "<a href=\"https://colab.research.google.com/github/DavoII/handwritten_letters_recognition/blob/master/Armenian_Letters(CNN).ipynb\" target=\"_parent\"><img src=\"https://colab.research.google.com/assets/colab-badge.svg\" alt=\"Open In Colab\"/></a>"
      ]
    },
    {
      "cell_type": "code",
      "metadata": {
        "id": "7oKEOKqavQIQ",
        "colab_type": "code",
        "outputId": "74c28bd4-fee6-40ca-987a-76bc19479997",
        "colab": {
          "base_uri": "https://localhost:8080/",
          "height": 34
        }
      },
      "source": [
        "from google.colab import drive\n",
        "drive.mount('/content/drive')"
      ],
      "execution_count": 5,
      "outputs": [
        {
          "output_type": "stream",
          "text": [
            "Drive already mounted at /content/drive; to attempt to forcibly remount, call drive.mount(\"/content/drive\", force_remount=True).\n"
          ],
          "name": "stdout"
        }
      ]
    },
    {
      "cell_type": "code",
      "metadata": {
        "id": "GfskmiEBzB-V",
        "colab_type": "code",
        "outputId": "96d6b4a8-0695-4ed3-d8f7-eee93c400669",
        "colab": {
          "base_uri": "https://localhost:8080/",
          "height": 88
        }
      },
      "source": [
        "import random\n",
        "import numpy as np\n",
        "import pandas as pd\n",
        "import seaborn as sn\n",
        "import matplotlib.pyplot as plt\n",
        "from keras.utils import np_utils\n",
        "from tensorflow.keras import optimizers\n",
        "from sklearn.metrics import confusion_matrix\n",
        "from tensorflow.keras.models import Sequential\n",
        "from sklearn.model_selection import train_test_split\n",
        "from keras.preprocessing.image import ImageDataGenerator\n",
        "from tensorflow.keras.layers import Dense, Dropout, Activation, Flatten, Conv2D, MaxPooling2D"
      ],
      "execution_count": 2,
      "outputs": [
        {
          "output_type": "stream",
          "text": [
            "/usr/local/lib/python3.6/dist-packages/statsmodels/tools/_testing.py:19: FutureWarning: pandas.util.testing is deprecated. Use the functions in the public API at pandas.testing instead.\n",
            "  import pandas.util.testing as tm\n",
            "Using TensorFlow backend.\n"
          ],
          "name": "stderr"
        }
      ]
    },
    {
      "cell_type": "code",
      "metadata": {
        "id": "mdpRKw-izGqn",
        "colab_type": "code",
        "outputId": "df9e4037-ad2e-4efc-b8da-d13b80a3da4d",
        "colab": {
          "base_uri": "https://localhost:8080/",
          "height": 51
        }
      },
      "source": [
        "data = np.load('drive/My Drive/uppercase_without_Զ/data.npy', encoding='bytes') \n",
        "labels = np.load('drive/My Drive/uppercase_without_Զ/labels.npy', encoding='bytes') \n",
        "class_idx = np.load('drive/My Drive/uppercase_without_Զ/label_classes.npy', encoding='bytes')\n",
        "\n",
        "print(data.shape)\n",
        "print(labels.shape)"
      ],
      "execution_count": 6,
      "outputs": [
        {
          "output_type": "stream",
          "text": [
            "(40845, 100, 100)\n",
            "(40845, 38)\n"
          ],
          "name": "stdout"
        }
      ]
    },
    {
      "cell_type": "code",
      "metadata": {
        "id": "b7MzTKgDFWlH",
        "colab_type": "code",
        "outputId": "febb1750-d50b-4391-ea3b-eec5e06ba1af",
        "colab": {
          "base_uri": "https://localhost:8080/",
          "height": 34
        }
      },
      "source": [
        "number_classes = len(class_idx)\n",
        "print('number of classes', number_classes)"
      ],
      "execution_count": 7,
      "outputs": [
        {
          "output_type": "stream",
          "text": [
            "number of classes 38\n"
          ],
          "name": "stdout"
        }
      ]
    },
    {
      "cell_type": "code",
      "metadata": {
        "id": "N8VsP_03zLL_",
        "colab_type": "code",
        "colab": {}
      },
      "source": [
        "x_train, x_test, y_train, y_test = train_test_split(\n",
        "    data, labels,\n",
        "    test_size=0.2,\n",
        "    random_state=42,\n",
        "    shuffle=True,\n",
        "    stratify=labels\n",
        "    )\n",
        "\n",
        "x_train = x_train.astype('float32')\n",
        "x_test = x_test.astype('float32')\n",
        "y_train = y_train.astype('float32')\n",
        "y_test = y_test.astype('float32')\n",
        "\n",
        "x_train /= 255\n",
        "x_test /= 255"
      ],
      "execution_count": 0,
      "outputs": []
    },
    {
      "cell_type": "code",
      "metadata": {
        "id": "PiLnOL0hwa6s",
        "colab_type": "code",
        "colab": {}
      },
      "source": [
        "(img_shape_w, img_shape_h) = x_train[0].shape\n",
        "x_train = x_train.reshape(x_train.shape[0], img_shape_w, img_shape_h, 1)\n",
        "x_test = x_test.reshape(x_test.shape[0], img_shape_w, img_shape_h, 1)"
      ],
      "execution_count": 0,
      "outputs": []
    },
    {
      "cell_type": "code",
      "metadata": {
        "id": "ChcU-GXtzdqo",
        "colab_type": "code",
        "outputId": "c83dca50-960a-4b5a-ac72-7126e74302a9",
        "colab": {
          "base_uri": "https://localhost:8080/",
          "height": 85
        }
      },
      "source": [
        "print('x_train', x_train.shape)\n",
        "print('y_train', y_train.shape)\n",
        "print('x_test', x_test.shape)\n",
        "print('y_test', y_test.shape)"
      ],
      "execution_count": 12,
      "outputs": [
        {
          "output_type": "stream",
          "text": [
            "x_train (28591, 100, 100, 1)\n",
            "y_train (28591, 38)\n",
            "x_test (12254, 100, 100, 1)\n",
            "y_test (12254, 38)\n"
          ],
          "name": "stdout"
        }
      ]
    },
    {
      "cell_type": "code",
      "metadata": {
        "id": "u_1t31gsPIuq",
        "colab_type": "code",
        "colab": {}
      },
      "source": [
        "# model fit with generator\n",
        "'''\n",
        "gen = ImageDataGenerator(rotation_range=12, width_shift_range=0.1, shear_range=0.3,\n",
        "                        height_shift_range=0.1, zoom_range=0.1, data_format='channels_first')\n",
        "\n",
        "batch_size = 512\n",
        "batches = gen.flow(x_train, y_train, batch_size=batch_size)\n",
        "test_batches = gen.flow(x_test, y_test, batch_size=batch_size)\n",
        "steps_per_epoch = int(np.ceil(batches.n/batch_size))\n",
        "validation_steps = int(np.ceil(test_batches.n/batch_size))\n",
        "\n",
        "model.fit(\n",
        "    batches,\n",
        "    epochs=4,\n",
        "    validation_data=test_batches,\n",
        "    steps_per_epoch=steps_per_epoch,\n",
        "    validation_steps=validation_steps\n",
        "    )\n",
        "'''"
      ],
      "execution_count": 0,
      "outputs": []
    },
    {
      "cell_type": "code",
      "metadata": {
        "id": "tvxlfV81Fj75",
        "colab_type": "code",
        "colab": {}
      },
      "source": [
        "def build_model(hp):\n",
        "\n",
        "  categories=number_classes\n",
        "\n",
        "  ly1_neurons = hp.Int('conv_1_filter', min_value=128, max_value=512, step=16)\n",
        "  ly2_neurons = hp.Int('conv_2_filter', min_value=128, max_value=512, step=16)\n",
        "  ly3_neurons = hp.Int('conv_3_filter', min_value=128, max_value=512, step=16)\n",
        "\n",
        "  kernel_size_1 = hp.Choice('conv_1_kernel', values=[3, 5, 7])\n",
        "  kernel_size_2 = hp.Choice('conv_2_kernel', values=[3, 5, 7])\n",
        "  kernel_size_3 = hp.Choice('conv_3_kernel', values=[3, 5, 7])\n",
        "\n",
        "  ly1_dropout = hp.Float('dropout_1', min_value=0.0, max_value=0.5, default=0.25, step=0.05)\n",
        "  ly2_dropout = hp.Float('dropout_2', min_value=0.0, max_value=0.5, default=0.25, step=0.05)\n",
        "  ly3_dropout = hp.Float('dropout_3', min_value=0.0, max_value=0.5, default=0.25, step=0.05)\n",
        "\n",
        "  pool_size_1 = (2, 2)\n",
        "  pool_size_2 = (2, 2)\n",
        "  pool_size_3 = (2, 2)\n",
        "\n",
        "  model = Sequential()\n",
        "  \n",
        "  model.add(Conv2D(filters=ly1_neurons, kernel_size=kernel_size_1, input_shape=x_train.shape[1:]))\n",
        "  model.add(Activation(\"relu\"))\n",
        "  model.add(MaxPooling2D(pool_size=pool_size_1))\n",
        "  model.add(Dropout(ly1_dropout))\n",
        "\n",
        "  model.add(Conv2D(filters=ly2_neurons, kernel_size=kernel_size_2))\n",
        "  model.add(Activation(\"relu\"))\n",
        "  model.add(MaxPooling2D(pool_size=pool_size_2))\n",
        "  model.add(Dropout(ly2_dropout))\n",
        "\n",
        "  model.add(Conv2D(filters=ly3_neurons, kernel_size=kernel_size_3))\n",
        "  model.add(Activation(\"relu\"))\n",
        "  model.add(MaxPooling2D(pool_size=pool_size_3))\n",
        "  model.add(Dropout(ly3_dropout))\n",
        "\n",
        "  model.add(Flatten())\n",
        "  model.add(Dense( 512 ))\n",
        "  model.add(Activation('relu'))\n",
        "  model.add(Dense( categories ))\n",
        "  model.add(Activation('softmax'))\n",
        "\n",
        "  model.compile(\n",
        "      optimizer=optimizers.Adam(hp.Choice('learning_rate', values=[1e-2, 1e-4])),\n",
        "      loss='categorical_crossentropy',\n",
        "      metrics=['accuracy']\n",
        "      )\n",
        "\n",
        "  return model\n"
      ],
      "execution_count": 0,
      "outputs": []
    },
    {
      "cell_type": "code",
      "metadata": {
        "id": "s9o5owASN5e1",
        "colab_type": "code",
        "colab": {}
      },
      "source": [
        "!pip install keras-tuner"
      ],
      "execution_count": 0,
      "outputs": []
    },
    {
      "cell_type": "code",
      "metadata": {
        "id": "0l19Pp4IHGOk",
        "colab_type": "code",
        "colab": {}
      },
      "source": [
        "from kerastuner import RandomSearch\n",
        "from kerastuner.engine.hyperparameters import HyperParameters"
      ],
      "execution_count": 0,
      "outputs": []
    },
    {
      "cell_type": "code",
      "metadata": {
        "id": "iqE_5_XmImwM",
        "colab_type": "code",
        "colab": {
          "base_uri": "https://localhost:8080/",
          "height": 34
        },
        "outputId": "a282faab-bb77-4bc7-84ef-92d1c9812285"
      },
      "source": [
        "tuner_search = RandomSearch(\n",
        "    build_model,\n",
        "    objective='val_accuracy',\n",
        "    max_trials=5,\n",
        "    )"
      ],
      "execution_count": 30,
      "outputs": [
        {
          "output_type": "stream",
          "text": [
            "INFO:tensorflow:Reloading Oracle from existing project ./untitled_project/oracle.json\n"
          ],
          "name": "stdout"
        }
      ]
    },
    {
      "cell_type": "code",
      "metadata": {
        "id": "CfpqaxmSJ9dT",
        "colab_type": "code",
        "colab": {}
      },
      "source": [
        "tuner_search.search(x_train, y_train, epochs=5, validation_split=0.2)"
      ],
      "execution_count": 0,
      "outputs": []
    },
    {
      "cell_type": "code",
      "metadata": {
        "id": "Vtu6s9GFOgrI",
        "colab_type": "code",
        "colab": {}
      },
      "source": [
        "model_from_tunner = tuner_search.get_best_models(num_models=1)[0]"
      ],
      "execution_count": 0,
      "outputs": []
    },
    {
      "cell_type": "code",
      "metadata": {
        "id": "_g7nFJRbOuXc",
        "colab_type": "code",
        "outputId": "de7ff305-1252-4639-835d-316cdecc87bc",
        "colab": {
          "base_uri": "https://localhost:8080/",
          "height": 867
        }
      },
      "source": [
        "model_from_tunner.summary()"
      ],
      "execution_count": 33,
      "outputs": [
        {
          "output_type": "stream",
          "text": [
            "Model: \"sequential\"\n",
            "_________________________________________________________________\n",
            "Layer (type)                 Output Shape              Param #   \n",
            "=================================================================\n",
            "conv2d (Conv2D)              (None, 96, 96, 176)       4576      \n",
            "_________________________________________________________________\n",
            "activation (Activation)      (None, 96, 96, 176)       0         \n",
            "_________________________________________________________________\n",
            "max_pooling2d (MaxPooling2D) (None, 48, 48, 176)       0         \n",
            "_________________________________________________________________\n",
            "dropout (Dropout)            (None, 48, 48, 176)       0         \n",
            "_________________________________________________________________\n",
            "conv2d_1 (Conv2D)            (None, 44, 44, 496)       2182896   \n",
            "_________________________________________________________________\n",
            "activation_1 (Activation)    (None, 44, 44, 496)       0         \n",
            "_________________________________________________________________\n",
            "max_pooling2d_1 (MaxPooling2 (None, 22, 22, 496)       0         \n",
            "_________________________________________________________________\n",
            "dropout_1 (Dropout)          (None, 22, 22, 496)       0         \n",
            "_________________________________________________________________\n",
            "conv2d_2 (Conv2D)            (None, 20, 20, 128)       571520    \n",
            "_________________________________________________________________\n",
            "activation_2 (Activation)    (None, 20, 20, 128)       0         \n",
            "_________________________________________________________________\n",
            "max_pooling2d_2 (MaxPooling2 (None, 10, 10, 128)       0         \n",
            "_________________________________________________________________\n",
            "dropout_2 (Dropout)          (None, 10, 10, 128)       0         \n",
            "_________________________________________________________________\n",
            "conv2d_3 (Conv2D)            (None, 6, 6, 368)         1177968   \n",
            "_________________________________________________________________\n",
            "activation_3 (Activation)    (None, 6, 6, 368)         0         \n",
            "_________________________________________________________________\n",
            "max_pooling2d_3 (MaxPooling2 (None, 3, 3, 368)         0         \n",
            "_________________________________________________________________\n",
            "dropout_3 (Dropout)          (None, 3, 3, 368)         0         \n",
            "_________________________________________________________________\n",
            "flatten (Flatten)            (None, 3312)              0         \n",
            "_________________________________________________________________\n",
            "dense (Dense)                (None, 512)               1696256   \n",
            "_________________________________________________________________\n",
            "activation_4 (Activation)    (None, 512)               0         \n",
            "_________________________________________________________________\n",
            "dense_1 (Dense)              (None, 38)                19494     \n",
            "_________________________________________________________________\n",
            "activation_5 (Activation)    (None, 38)                0         \n",
            "=================================================================\n",
            "Total params: 5,652,710\n",
            "Trainable params: 5,652,710\n",
            "Non-trainable params: 0\n",
            "_________________________________________________________________\n"
          ],
          "name": "stdout"
        }
      ]
    },
    {
      "cell_type": "code",
      "metadata": {
        "id": "tOTA7E4Gw-pU",
        "colab_type": "code",
        "outputId": "124c594e-a76a-4a7f-c9e0-aa839be8b531",
        "colab": {
          "base_uri": "https://localhost:8080/",
          "height": 374
        }
      },
      "source": [
        "model_from_tunner.fit(\n",
        "    x_train,\n",
        "    y_train,\n",
        "    batch_size=120,\n",
        "    epochs=10,\n",
        "    validation_data=(x_test, y_test),\n",
        "    verbose=1\n",
        "    )"
      ],
      "execution_count": 34,
      "outputs": [
        {
          "output_type": "stream",
          "text": [
            "Epoch 1/10\n",
            "239/239 [==============================] - 147s 615ms/step - loss: 0.1962 - accuracy: 0.9408 - val_loss: 0.2483 - val_accuracy: 0.9292\n",
            "Epoch 2/10\n",
            "239/239 [==============================] - 145s 605ms/step - loss: 0.1696 - accuracy: 0.9488 - val_loss: 0.2433 - val_accuracy: 0.9297\n",
            "Epoch 3/10\n",
            "239/239 [==============================] - 145s 605ms/step - loss: 0.1507 - accuracy: 0.9532 - val_loss: 0.2332 - val_accuracy: 0.9334\n",
            "Epoch 4/10\n",
            "239/239 [==============================] - 145s 605ms/step - loss: 0.1367 - accuracy: 0.9569 - val_loss: 0.2365 - val_accuracy: 0.9324\n",
            "Epoch 5/10\n",
            "239/239 [==============================] - 145s 605ms/step - loss: 0.1221 - accuracy: 0.9610 - val_loss: 0.2423 - val_accuracy: 0.9323\n",
            "Epoch 6/10\n",
            "239/239 [==============================] - 145s 605ms/step - loss: 0.1151 - accuracy: 0.9623 - val_loss: 0.2412 - val_accuracy: 0.9326\n",
            "Epoch 7/10\n",
            "239/239 [==============================] - 145s 605ms/step - loss: 0.1050 - accuracy: 0.9651 - val_loss: 0.2444 - val_accuracy: 0.9346\n",
            "Epoch 8/10\n",
            "239/239 [==============================] - 144s 604ms/step - loss: 0.0941 - accuracy: 0.9680 - val_loss: 0.2578 - val_accuracy: 0.9327\n",
            "Epoch 9/10\n",
            "239/239 [==============================] - 144s 604ms/step - loss: 0.0915 - accuracy: 0.9687 - val_loss: 0.2575 - val_accuracy: 0.9344\n",
            "Epoch 10/10\n",
            "239/239 [==============================] - 144s 604ms/step - loss: 0.0849 - accuracy: 0.9699 - val_loss: 0.2535 - val_accuracy: 0.9344\n"
          ],
          "name": "stdout"
        },
        {
          "output_type": "execute_result",
          "data": {
            "text/plain": [
              "<tensorflow.python.keras.callbacks.History at 0x7f5679875588>"
            ]
          },
          "metadata": {
            "tags": []
          },
          "execution_count": 34
        }
      ]
    }
  ]
}